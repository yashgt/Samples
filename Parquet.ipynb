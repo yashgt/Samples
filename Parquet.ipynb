{
 "cells": [
  {
   "cell_type": "markdown",
   "metadata": {},
   "source": [
    "#  Read CSV"
   ]
  },
  {
   "cell_type": "code",
   "execution_count": 101,
   "metadata": {
    "ExecuteTime": {
     "end_time": "2021-07-27T07:38:49.339904Z",
     "start_time": "2021-07-27T07:38:49.330296Z"
    }
   },
   "outputs": [],
   "source": [
    "from pyspark.sql import SparkSession"
   ]
  },
  {
   "cell_type": "code",
   "execution_count": 102,
   "metadata": {
    "ExecuteTime": {
     "end_time": "2021-07-27T07:38:49.360927Z",
     "start_time": "2021-07-27T07:38:49.343007Z"
    }
   },
   "outputs": [],
   "source": [
    "# mycsv = \"./data/All_Reports_20200331_Income and Expense.csv\"  # Should be some file on your system\n",
    "mycsv = \"./data/Data8317.csv\"  # Should be some file on your system\n",
    "partField = \"Age\"\n",
    "filterValue = \"2\"\n",
    "tableName = \"mytable\"\n",
    "partTableName = \"partmytable\"\n",
    "entity = \"myentity\"\n",
    "nonPartFile= \"non-part-\" + entity + \".parquet\"\n",
    "partFile = \"part-\" + entity + \".parquet\""
   ]
  },
  {
   "cell_type": "code",
   "execution_count": 103,
   "metadata": {
    "ExecuteTime": {
     "end_time": "2021-07-27T07:38:49.392152Z",
     "start_time": "2021-07-27T07:38:49.364810Z"
    }
   },
   "outputs": [],
   "source": [
    "spark = SparkSession.builder.appName(\"SimpleApp\").getOrCreate()"
   ]
  },
  {
   "cell_type": "code",
   "execution_count": 104,
   "metadata": {
    "ExecuteTime": {
     "end_time": "2021-07-27T07:38:49.682254Z",
     "start_time": "2021-07-27T07:38:49.395298Z"
    }
   },
   "outputs": [
    {
     "name": "stdout",
     "output_type": "stream",
     "text": [
      "-rwxr-xr-x 1 root root 857219761 Sep 30  2019 /home/notebooks/data/Data8317.csv\r\n"
     ]
    }
   ],
   "source": [
    "! ls -l /home/notebooks/data/Data8317.csv"
   ]
  },
  {
   "cell_type": "code",
   "execution_count": 105,
   "metadata": {
    "ExecuteTime": {
     "end_time": "2021-07-27T07:40:13.996640Z",
     "start_time": "2021-07-27T07:38:49.684321Z"
    }
   },
   "outputs": [],
   "source": [
    "csvdataDF = spark.read.load(mycsv, format=\"csv\", sep=\",\", inferSchema=\"true\", header=\"true\")"
   ]
  },
  {
   "cell_type": "code",
   "execution_count": 106,
   "metadata": {
    "ExecuteTime": {
     "end_time": "2021-07-27T07:40:14.027821Z",
     "start_time": "2021-07-27T07:40:13.999113Z"
    }
   },
   "outputs": [],
   "source": [
    "csvdataDF.registerTempTable(tableName)"
   ]
  },
  {
   "cell_type": "code",
   "execution_count": 107,
   "metadata": {
    "ExecuteTime": {
     "end_time": "2021-07-27T07:40:29.562828Z",
     "start_time": "2021-07-27T07:40:14.040629Z"
    }
   },
   "outputs": [
    {
     "name": "stdout",
     "output_type": "stream",
     "text": [
      "CSV data count  34959672\n"
     ]
    }
   ],
   "source": [
    "print(\"CSV data count \", csvdataDF.count())"
   ]
  },
  {
   "cell_type": "code",
   "execution_count": 108,
   "metadata": {
    "ExecuteTime": {
     "end_time": "2021-07-27T07:40:29.651603Z",
     "start_time": "2021-07-27T07:40:29.568514Z"
    }
   },
   "outputs": [
    {
     "name": "stdout",
     "output_type": "stream",
     "text": [
      "+----+---+------+---+----+-----+\n",
      "|Year|Age|Ethnic|Sex|Area|count|\n",
      "+----+---+------+---+----+-----+\n",
      "|2018|  0|     1|  1|  01|  807|\n",
      "|2018|  0|     1|  1|  02| 5109|\n",
      "+----+---+------+---+----+-----+\n",
      "only showing top 2 rows\n",
      "\n"
     ]
    }
   ],
   "source": [
    "csvdataDF.show(2)"
   ]
  },
  {
   "cell_type": "code",
   "execution_count": 109,
   "metadata": {
    "ExecuteTime": {
     "end_time": "2021-07-27T07:40:29.659786Z",
     "start_time": "2021-07-27T07:40:29.654491Z"
    }
   },
   "outputs": [
    {
     "name": "stdout",
     "output_type": "stream",
     "text": [
      "root\n",
      " |-- Year: integer (nullable = true)\n",
      " |-- Age: integer (nullable = true)\n",
      " |-- Ethnic: integer (nullable = true)\n",
      " |-- Sex: integer (nullable = true)\n",
      " |-- Area: string (nullable = true)\n",
      " |-- count: string (nullable = true)\n",
      "\n"
     ]
    }
   ],
   "source": [
    "csvdataDF.printSchema()"
   ]
  },
  {
   "cell_type": "code",
   "execution_count": 110,
   "metadata": {
    "ExecuteTime": {
     "end_time": "2021-07-27T07:40:29.684330Z",
     "start_time": "2021-07-27T07:40:29.662412Z"
    }
   },
   "outputs": [],
   "source": [
    "filteredCSVDF = spark.sql(\"select * from \" + tableName + \" where \" + partField + \"=\" + filterValue )"
   ]
  },
  {
   "cell_type": "code",
   "execution_count": 111,
   "metadata": {
    "ExecuteTime": {
     "end_time": "2021-07-27T07:40:53.472849Z",
     "start_time": "2021-07-27T07:40:29.689272Z"
    }
   },
   "outputs": [
    {
     "name": "stdout",
     "output_type": "stream",
     "text": [
      "Filtered CSV data count  708642\n"
     ]
    }
   ],
   "source": [
    "print(\"Filtered CSV data count \", filteredCSVDF.count())"
   ]
  },
  {
   "cell_type": "markdown",
   "metadata": {},
   "source": [
    "# Non-partitioned Parquet"
   ]
  },
  {
   "cell_type": "markdown",
   "metadata": {},
   "source": [
    "## Fresh data"
   ]
  },
  {
   "cell_type": "code",
   "execution_count": 114,
   "metadata": {
    "ExecuteTime": {
     "end_time": "2021-07-27T07:42:35.455101Z",
     "start_time": "2021-07-27T07:41:24.860748Z"
    }
   },
   "outputs": [],
   "source": [
    "csvdataDF.write.format(\"parquet\").mode(\"overwrite\").save(nonPartFile)"
   ]
  },
  {
   "cell_type": "code",
   "execution_count": 115,
   "metadata": {
    "ExecuteTime": {
     "end_time": "2021-07-27T07:42:35.871037Z",
     "start_time": "2021-07-27T07:42:35.457590Z"
    }
   },
   "outputs": [
    {
     "name": "stdout",
     "output_type": "stream",
     "text": [
      "total 0\r\n",
      "-rwxr-xr-x 1 root root       0 Jul 27 07:42 _SUCCESS\r\n",
      "-rwxr-xr-x 1 root root 4294933 Jul 27 07:41 part-00000-2197ae5b-d80d-4023-b977-4f4d1163ac09-c000.snappy.parquet\r\n",
      "-rwxr-xr-x 1 root root 2664292 Jul 27 07:41 part-00001-2197ae5b-d80d-4023-b977-4f4d1163ac09-c000.snappy.parquet\r\n",
      "-rwxr-xr-x 1 root root 5798042 Jul 27 07:42 part-00002-2197ae5b-d80d-4023-b977-4f4d1163ac09-c000.snappy.parquet\r\n",
      "-rwxr-xr-x 1 root root 4187727 Jul 27 07:42 part-00003-2197ae5b-d80d-4023-b977-4f4d1163ac09-c000.snappy.parquet\r\n",
      "-rwxr-xr-x 1 root root 5381904 Jul 27 07:42 part-00004-2197ae5b-d80d-4023-b977-4f4d1163ac09-c000.snappy.parquet\r\n",
      "-rwxr-xr-x 1 root root 4524794 Jul 27 07:42 part-00005-2197ae5b-d80d-4023-b977-4f4d1163ac09-c000.snappy.parquet\r\n",
      "-rwxr-xr-x 1 root root 1346239 Jul 27 07:42 part-00006-2197ae5b-d80d-4023-b977-4f4d1163ac09-c000.snappy.parquet\r\n"
     ]
    }
   ],
   "source": [
    "! ls -l /home/notebooks/non-part-myentity.parquet"
   ]
  },
  {
   "cell_type": "code",
   "execution_count": 116,
   "metadata": {
    "ExecuteTime": {
     "end_time": "2021-07-27T07:42:36.162833Z",
     "start_time": "2021-07-27T07:42:35.873437Z"
    }
   },
   "outputs": [
    {
     "name": "stdout",
     "output_type": "stream",
     "text": [
      "28M\t/home/notebooks/non-part-myentity.parquet\r\n"
     ]
    }
   ],
   "source": [
    "! du -h --apparent-size /home/notebooks/non-part-myentity.parquet"
   ]
  },
  {
   "cell_type": "code",
   "execution_count": 117,
   "metadata": {
    "ExecuteTime": {
     "end_time": "2021-07-27T07:42:36.242380Z",
     "start_time": "2021-07-27T07:42:36.165135Z"
    }
   },
   "outputs": [],
   "source": [
    "pqDF = spark.read.load(nonPartFile, format=\"parquet\")"
   ]
  },
  {
   "cell_type": "code",
   "execution_count": 118,
   "metadata": {
    "ExecuteTime": {
     "end_time": "2021-07-27T07:42:36.558044Z",
     "start_time": "2021-07-27T07:42:36.246367Z"
    }
   },
   "outputs": [
    {
     "name": "stdout",
     "output_type": "stream",
     "text": [
      "PQ Non-partitioned partitioned count  34959672\n"
     ]
    }
   ],
   "source": [
    "print(\"PQ Non-partitioned partitioned count \", pqDF.count())"
   ]
  },
  {
   "cell_type": "code",
   "execution_count": 119,
   "metadata": {
    "ExecuteTime": {
     "end_time": "2021-07-27T07:42:36.724757Z",
     "start_time": "2021-07-27T07:42:36.560728Z"
    }
   },
   "outputs": [
    {
     "name": "stdout",
     "output_type": "stream",
     "text": [
      "+----+---+------+---+------+-----+\n",
      "|Year|Age|Ethnic|Sex|  Area|count|\n",
      "+----+---+------+---+------+-----+\n",
      "|2018|110|    61|  9|120300|    0|\n",
      "|2018|110|    69|  1|120300|  ..C|\n",
      "+----+---+------+---+------+-----+\n",
      "only showing top 2 rows\n",
      "\n"
     ]
    }
   ],
   "source": [
    "pqDF.show(2)"
   ]
  },
  {
   "cell_type": "markdown",
   "metadata": {},
   "source": [
    "## Appending data"
   ]
  },
  {
   "cell_type": "code",
   "execution_count": 120,
   "metadata": {
    "ExecuteTime": {
     "end_time": "2021-07-27T07:43:44.691510Z",
     "start_time": "2021-07-27T07:42:36.728788Z"
    }
   },
   "outputs": [],
   "source": [
    "csvdataDF.write.format(\"parquet\").mode(\"append\").save(nonPartFile)"
   ]
  },
  {
   "cell_type": "code",
   "execution_count": 121,
   "metadata": {
    "ExecuteTime": {
     "end_time": "2021-07-27T07:43:45.399710Z",
     "start_time": "2021-07-27T07:43:44.693710Z"
    }
   },
   "outputs": [
    {
     "name": "stdout",
     "output_type": "stream",
     "text": [
      "PQ Non-partitioned partitioned count  69919344\n"
     ]
    }
   ],
   "source": [
    "pqDF = spark.read.load(nonPartFile, format=\"parquet\")\n",
    "print(\"PQ Non-partitioned partitioned count \", pqDF.count())"
   ]
  },
  {
   "cell_type": "markdown",
   "metadata": {},
   "source": [
    "# Partitioned Parquet file"
   ]
  },
  {
   "cell_type": "markdown",
   "metadata": {},
   "source": [
    "# Fresh data"
   ]
  },
  {
   "cell_type": "markdown",
   "metadata": {},
   "source": [
    ".mode(...).option(\"compression\", \"gzip\") can be used for gzip compression"
   ]
  },
  {
   "cell_type": "code",
   "execution_count": 122,
   "metadata": {
    "ExecuteTime": {
     "end_time": "2021-07-27T07:46:34.570298Z",
     "start_time": "2021-07-27T07:43:45.404653Z"
    }
   },
   "outputs": [],
   "source": [
    "csvdataDF.write.partitionBy(partField).format(\"parquet\").mode(\"overwrite\").save(partFile)"
   ]
  },
  {
   "cell_type": "code",
   "execution_count": 127,
   "metadata": {
    "ExecuteTime": {
     "end_time": "2021-07-27T07:50:51.875547Z",
     "start_time": "2021-07-27T07:50:51.439518Z"
    }
   },
   "outputs": [
    {
     "name": "stdout",
     "output_type": "stream",
     "text": [
      "total 0\r\n",
      "drwxrwxrwx 1 root root 4096 Jul 27 07:46 'Age=0'\r\n",
      "drwxrwxrwx 1 root root 4096 Jul 27 07:46 'Age=1'\r\n",
      "drwxrwxrwx 1 root root 4096 Jul 27 07:46 'Age=10'\r\n",
      "drwxrwxrwx 1 root root 4096 Jul 27 07:46 'Age=100'\r\n",
      "drwxrwxrwx 1 root root 4096 Jul 27 07:46 'Age=101'\r\n",
      "drwxrwxrwx 1 root root 4096 Jul 27 07:46 'Age=102'\r\n",
      "drwxrwxrwx 1 root root 4096 Jul 27 07:46 'Age=103'\r\n",
      "drwxrwxrwx 1 root root 4096 Jul 27 07:46 'Age=104'\r\n",
      "drwxrwxrwx 1 root root 4096 Jul 27 07:46 'Age=105'\r\n",
      "drwxrwxrwx 1 root root 4096 Jul 27 07:46 'Age=106'\r\n",
      "drwxrwxrwx 1 root root 4096 Jul 27 07:46 'Age=107'\r\n",
      "drwxrwxrwx 1 root root 4096 Jul 27 07:46 'Age=108'\r\n",
      "drwxrwxrwx 1 root root 4096 Jul 27 07:46 'Age=109'\r\n",
      "drwxrwxrwx 1 root root 4096 Jul 27 07:46 'Age=11'\r\n",
      "drwxrwxrwx 1 root root 4096 Jul 27 07:46 'Age=110'\r\n",
      "drwxrwxrwx 1 root root 4096 Jul 27 07:46 'Age=111'\r\n",
      "drwxrwxrwx 1 root root 4096 Jul 27 07:46 'Age=112'\r\n",
      "drwxrwxrwx 1 root root 4096 Jul 27 07:46 'Age=113'\r\n",
      "drwxrwxrwx 1 root root 4096 Jul 27 07:46 'Age=114'\r\n",
      "drwxrwxrwx 1 root root 4096 Jul 27 07:46 'Age=115'\r\n",
      "drwxrwxrwx 1 root root 4096 Jul 27 07:46 'Age=116'\r\n",
      "drwxrwxrwx 1 root root 4096 Jul 27 07:46 'Age=117'\r\n",
      "drwxrwxrwx 1 root root 4096 Jul 27 07:46 'Age=118'\r\n",
      "drwxrwxrwx 1 root root 4096 Jul 27 07:46 'Age=119'\r\n",
      "drwxrwxrwx 1 root root 4096 Jul 27 07:46 'Age=12'\r\n",
      "drwxrwxrwx 1 root root 4096 Jul 27 07:46 'Age=120'\r\n",
      "drwxrwxrwx 1 root root 4096 Jul 27 07:46 'Age=13'\r\n",
      "drwxrwxrwx 1 root root 4096 Jul 27 07:46 'Age=14'\r\n",
      "drwxrwxrwx 1 root root 4096 Jul 27 07:46 'Age=15'\r\n",
      "drwxrwxrwx 1 root root 4096 Jul 27 07:46 'Age=16'\r\n",
      "drwxrwxrwx 1 root root 4096 Jul 27 07:46 'Age=17'\r\n",
      "drwxrwxrwx 1 root root 4096 Jul 27 07:46 'Age=18'\r\n",
      "drwxrwxrwx 1 root root 4096 Jul 27 07:46 'Age=19'\r\n",
      "drwxrwxrwx 1 root root 4096 Jul 27 07:46 'Age=2'\r\n",
      "drwxrwxrwx 1 root root 4096 Jul 27 07:46 'Age=20'\r\n",
      "drwxrwxrwx 1 root root 4096 Jul 27 07:46 'Age=21'\r\n",
      "drwxrwxrwx 1 root root 4096 Jul 27 07:46 'Age=22'\r\n",
      "drwxrwxrwx 1 root root 4096 Jul 27 07:46 'Age=23'\r\n",
      "drwxrwxrwx 1 root root 4096 Jul 27 07:46 'Age=24'\r\n",
      "drwxrwxrwx 1 root root 4096 Jul 27 07:46 'Age=25'\r\n",
      "drwxrwxrwx 1 root root 4096 Jul 27 07:46 'Age=26'\r\n",
      "drwxrwxrwx 1 root root 4096 Jul 27 07:46 'Age=27'\r\n",
      "drwxrwxrwx 1 root root 4096 Jul 27 07:46 'Age=28'\r\n",
      "drwxrwxrwx 1 root root 4096 Jul 27 07:46 'Age=29'\r\n",
      "drwxrwxrwx 1 root root 4096 Jul 27 07:46 'Age=3'\r\n",
      "drwxrwxrwx 1 root root 4096 Jul 27 07:46 'Age=30'\r\n",
      "drwxrwxrwx 1 root root 4096 Jul 27 07:46 'Age=31'\r\n",
      "drwxrwxrwx 1 root root 4096 Jul 27 07:46 'Age=32'\r\n",
      "drwxrwxrwx 1 root root 4096 Jul 27 07:46 'Age=33'\r\n",
      "drwxrwxrwx 1 root root 4096 Jul 27 07:46 'Age=34'\r\n",
      "drwxrwxrwx 1 root root 4096 Jul 27 07:46 'Age=35'\r\n",
      "drwxrwxrwx 1 root root 4096 Jul 27 07:46 'Age=36'\r\n",
      "drwxrwxrwx 1 root root 4096 Jul 27 07:46 'Age=37'\r\n",
      "drwxrwxrwx 1 root root 4096 Jul 27 07:46 'Age=38'\r\n",
      "drwxrwxrwx 1 root root 4096 Jul 27 07:46 'Age=39'\r\n",
      "drwxrwxrwx 1 root root 4096 Jul 27 07:46 'Age=4'\r\n",
      "drwxrwxrwx 1 root root 4096 Jul 27 07:46 'Age=40'\r\n",
      "drwxrwxrwx 1 root root 4096 Jul 27 07:46 'Age=41'\r\n",
      "drwxrwxrwx 1 root root 4096 Jul 27 07:46 'Age=42'\r\n",
      "drwxrwxrwx 1 root root 4096 Jul 27 07:46 'Age=43'\r\n",
      "drwxrwxrwx 1 root root 4096 Jul 27 07:46 'Age=44'\r\n",
      "drwxrwxrwx 1 root root 4096 Jul 27 07:46 'Age=45'\r\n",
      "drwxrwxrwx 1 root root 4096 Jul 27 07:46 'Age=46'\r\n",
      "drwxrwxrwx 1 root root 4096 Jul 27 07:46 'Age=47'\r\n",
      "drwxrwxrwx 1 root root 4096 Jul 27 07:46 'Age=48'\r\n",
      "drwxrwxrwx 1 root root 4096 Jul 27 07:46 'Age=49'\r\n",
      "drwxrwxrwx 1 root root 4096 Jul 27 07:46 'Age=5'\r\n",
      "drwxrwxrwx 1 root root 4096 Jul 27 07:46 'Age=50'\r\n",
      "drwxrwxrwx 1 root root 4096 Jul 27 07:46 'Age=51'\r\n",
      "drwxrwxrwx 1 root root 4096 Jul 27 07:46 'Age=52'\r\n",
      "drwxrwxrwx 1 root root 4096 Jul 27 07:46 'Age=53'\r\n",
      "drwxrwxrwx 1 root root 4096 Jul 27 07:46 'Age=54'\r\n",
      "drwxrwxrwx 1 root root 4096 Jul 27 07:46 'Age=55'\r\n",
      "drwxrwxrwx 1 root root 4096 Jul 27 07:46 'Age=56'\r\n",
      "drwxrwxrwx 1 root root 4096 Jul 27 07:46 'Age=57'\r\n",
      "drwxrwxrwx 1 root root 4096 Jul 27 07:46 'Age=58'\r\n",
      "drwxrwxrwx 1 root root 4096 Jul 27 07:46 'Age=59'\r\n",
      "drwxrwxrwx 1 root root 4096 Jul 27 07:46 'Age=6'\r\n",
      "drwxrwxrwx 1 root root 4096 Jul 27 07:46 'Age=60'\r\n",
      "drwxrwxrwx 1 root root 4096 Jul 27 07:46 'Age=61'\r\n",
      "drwxrwxrwx 1 root root 4096 Jul 27 07:46 'Age=62'\r\n",
      "drwxrwxrwx 1 root root 4096 Jul 27 07:46 'Age=63'\r\n",
      "drwxrwxrwx 1 root root 4096 Jul 27 07:46 'Age=64'\r\n",
      "drwxrwxrwx 1 root root 4096 Jul 27 07:46 'Age=65'\r\n",
      "drwxrwxrwx 1 root root 4096 Jul 27 07:46 'Age=66'\r\n",
      "drwxrwxrwx 1 root root 4096 Jul 27 07:46 'Age=67'\r\n",
      "drwxrwxrwx 1 root root 4096 Jul 27 07:46 'Age=68'\r\n",
      "drwxrwxrwx 1 root root 4096 Jul 27 07:46 'Age=69'\r\n",
      "drwxrwxrwx 1 root root 4096 Jul 27 07:46 'Age=7'\r\n",
      "drwxrwxrwx 1 root root 4096 Jul 27 07:46 'Age=70'\r\n",
      "drwxrwxrwx 1 root root 4096 Jul 27 07:46 'Age=71'\r\n",
      "drwxrwxrwx 1 root root 4096 Jul 27 07:46 'Age=72'\r\n",
      "drwxrwxrwx 1 root root 4096 Jul 27 07:46 'Age=73'\r\n",
      "drwxrwxrwx 1 root root 4096 Jul 27 07:46 'Age=74'\r\n",
      "drwxrwxrwx 1 root root 4096 Jul 27 07:46 'Age=75'\r\n",
      "drwxrwxrwx 1 root root 4096 Jul 27 07:46 'Age=76'\r\n",
      "drwxrwxrwx 1 root root 4096 Jul 27 07:46 'Age=77'\r\n",
      "drwxrwxrwx 1 root root 4096 Jul 27 07:46 'Age=78'\r\n",
      "drwxrwxrwx 1 root root 4096 Jul 27 07:46 'Age=79'\r\n",
      "drwxrwxrwx 1 root root 4096 Jul 27 07:46 'Age=8'\r\n",
      "drwxrwxrwx 1 root root 4096 Jul 27 07:46 'Age=80'\r\n",
      "drwxrwxrwx 1 root root 4096 Jul 27 07:46 'Age=81'\r\n",
      "drwxrwxrwx 1 root root 4096 Jul 27 07:46 'Age=82'\r\n",
      "drwxrwxrwx 1 root root 4096 Jul 27 07:46 'Age=83'\r\n",
      "drwxrwxrwx 1 root root 4096 Jul 27 07:46 'Age=84'\r\n",
      "drwxrwxrwx 1 root root 4096 Jul 27 07:46 'Age=85'\r\n",
      "drwxrwxrwx 1 root root 4096 Jul 27 07:46 'Age=86'\r\n",
      "drwxrwxrwx 1 root root 4096 Jul 27 07:46 'Age=87'\r\n",
      "drwxrwxrwx 1 root root 4096 Jul 27 07:46 'Age=88'\r\n",
      "drwxrwxrwx 1 root root 4096 Jul 27 07:46 'Age=888'\r\n",
      "drwxrwxrwx 1 root root 4096 Jul 27 07:46 'Age=89'\r\n",
      "drwxrwxrwx 1 root root 4096 Jul 27 07:46 'Age=9'\r\n",
      "drwxrwxrwx 1 root root 4096 Jul 27 07:46 'Age=90'\r\n",
      "drwxrwxrwx 1 root root 4096 Jul 27 07:46 'Age=91'\r\n",
      "drwxrwxrwx 1 root root 4096 Jul 27 07:46 'Age=92'\r\n",
      "drwxrwxrwx 1 root root 4096 Jul 27 07:46 'Age=93'\r\n",
      "drwxrwxrwx 1 root root 4096 Jul 27 07:46 'Age=94'\r\n",
      "drwxrwxrwx 1 root root 4096 Jul 27 07:46 'Age=95'\r\n",
      "drwxrwxrwx 1 root root 4096 Jul 27 07:46 'Age=96'\r\n",
      "drwxrwxrwx 1 root root 4096 Jul 27 07:46 'Age=97'\r\n",
      "drwxrwxrwx 1 root root 4096 Jul 27 07:46 'Age=98'\r\n",
      "drwxrwxrwx 1 root root 4096 Jul 27 07:46 'Age=99'\r\n",
      "drwxrwxrwx 1 root root 4096 Jul 27 07:46 'Age=999999'\r\n",
      "-rwxr-xr-x 1 root root    0 Jul 27 07:46  _SUCCESS\r\n"
     ]
    }
   ],
   "source": [
    "! ls -l /home/notebooks/part-myentity.parquet"
   ]
  },
  {
   "cell_type": "code",
   "execution_count": 129,
   "metadata": {
    "ExecuteTime": {
     "end_time": "2021-07-27T08:04:42.039563Z",
     "start_time": "2021-07-27T08:04:41.480150Z"
    }
   },
   "outputs": [],
   "source": [
    "pqDF = spark.read.load(partFile, format=\"parquet\")"
   ]
  },
  {
   "cell_type": "code",
   "execution_count": 130,
   "metadata": {
    "ExecuteTime": {
     "end_time": "2021-07-27T08:05:09.258936Z",
     "start_time": "2021-07-27T08:04:47.298420Z"
    }
   },
   "outputs": [
    {
     "name": "stdout",
     "output_type": "stream",
     "text": [
      "PQ Non-partitioned partitioned count  34959672\n"
     ]
    }
   ],
   "source": [
    "print(\"PQ Non-partitioned partitioned count \", pqDF.count())"
   ]
  },
  {
   "cell_type": "code",
   "execution_count": 131,
   "metadata": {
    "ExecuteTime": {
     "end_time": "2021-07-27T08:05:15.352229Z",
     "start_time": "2021-07-27T08:05:15.331808Z"
    }
   },
   "outputs": [],
   "source": [
    "pqDF.registerTempTable(partTableName)"
   ]
  },
  {
   "cell_type": "code",
   "execution_count": 132,
   "metadata": {
    "ExecuteTime": {
     "end_time": "2021-07-27T08:05:18.675611Z",
     "start_time": "2021-07-27T08:05:18.660014Z"
    }
   },
   "outputs": [],
   "source": [
    "filteredPartDF = spark.sql(\"select * from \" + partTableName  + \" where \" + partField + \"=\" + filterValue )"
   ]
  },
  {
   "cell_type": "code",
   "execution_count": 133,
   "metadata": {
    "ExecuteTime": {
     "end_time": "2021-07-27T08:05:24.885485Z",
     "start_time": "2021-07-27T08:05:24.646799Z"
    }
   },
   "outputs": [
    {
     "name": "stdout",
     "output_type": "stream",
     "text": [
      "Filtered Partitioned data count  708642\n"
     ]
    }
   ],
   "source": [
    "print(\"Filtered Partitioned data count \", filteredPartDF.count())"
   ]
  },
  {
   "cell_type": "markdown",
   "metadata": {},
   "source": []
  }
 ],
 "metadata": {
  "kernelspec": {
   "display_name": "Python 3",
   "language": "python",
   "name": "python3"
  },
  "language_info": {
   "codemirror_mode": {
    "name": "ipython",
    "version": 3
   },
   "file_extension": ".py",
   "mimetype": "text/x-python",
   "name": "python",
   "nbconvert_exporter": "python",
   "pygments_lexer": "ipython3",
   "version": "3.7.7"
  },
  "toc": {
   "base_numbering": 1,
   "nav_menu": {},
   "number_sections": true,
   "sideBar": true,
   "skip_h1_title": false,
   "title_cell": "Table of Contents",
   "title_sidebar": "Contents",
   "toc_cell": false,
   "toc_position": {},
   "toc_section_display": true,
   "toc_window_display": true
  }
 },
 "nbformat": 4,
 "nbformat_minor": 4
}
