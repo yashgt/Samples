{
 "cells": [
  {
   "cell_type": "markdown",
   "metadata": {},
   "source": [
    "#  Read CSV"
   ]
  },
  {
   "cell_type": "code",
   "execution_count": 1,
   "metadata": {
    "ExecuteTime": {
     "end_time": "2021-07-24T13:02:13.352179Z",
     "start_time": "2021-07-24T13:02:13.264830Z"
    }
   },
   "outputs": [],
   "source": [
    "from pyspark.sql import SparkSession"
   ]
  },
  {
   "cell_type": "code",
   "execution_count": 2,
   "metadata": {
    "ExecuteTime": {
     "end_time": "2021-07-24T13:02:24.121426Z",
     "start_time": "2021-07-24T13:02:24.118185Z"
    }
   },
   "outputs": [],
   "source": [
    "mycsv = \"/home/fdic_20200331/All_Reports_20200331_Income and Expense.csv\"  # Should be some file on your system"
   ]
  },
  {
   "cell_type": "code",
   "execution_count": 3,
   "metadata": {
    "ExecuteTime": {
     "end_time": "2021-07-24T13:02:32.039060Z",
     "start_time": "2021-07-24T13:02:26.892191Z"
    }
   },
   "outputs": [],
   "source": [
    "spark = SparkSession.builder.appName(\"SimpleApp\").getOrCreate()"
   ]
  },
  {
   "cell_type": "code",
   "execution_count": 4,
   "metadata": {
    "ExecuteTime": {
     "end_time": "2021-07-24T13:02:44.244737Z",
     "start_time": "2021-07-24T13:02:37.964742Z"
    }
   },
   "outputs": [],
   "source": [
    "csvdataDF = spark.read.load(mycsv, format=\"csv\", sep=\",\", inferSchema=\"true\", header=\"true\")\n",
    "csvdataDF.registerTempTable(\"incomes\")"
   ]
  },
  {
   "cell_type": "code",
   "execution_count": 18,
   "metadata": {
    "ExecuteTime": {
     "end_time": "2021-07-25T05:11:23.007412Z",
     "start_time": "2021-07-25T05:11:22.638161Z"
    }
   },
   "outputs": [
    {
     "name": "stdout",
     "output_type": "stream",
     "text": [
      "CSV data count  5125\n"
     ]
    }
   ],
   "source": [
    "print(\"CSV data count \", csvdataDF.count())"
   ]
  },
  {
   "cell_type": "code",
   "execution_count": 6,
   "metadata": {
    "ExecuteTime": {
     "end_time": "2021-07-24T13:02:56.174722Z",
     "start_time": "2021-07-24T13:02:55.329546Z"
    }
   },
   "outputs": [
    {
     "name": "stdout",
     "output_type": "stream",
     "text": [
      "+-----+------+--------+-------+--------------------+----------------+-----+-----+---------+--------+-------+--------------------+--------------------+------+------+------+-------+--------+-------------+----------+--------------------+----------+----------+----------+------+-------+-----+-------+--------+-------------+-------------+--------------+-------------+------------+---------+-----+---+--------------------+------+-------+-----+------+-----+------+-------+-------+--------+-----+-----+--------+------+-------+------+----+-------+-----+------+-------+-------+------+------+--------+-------+\n",
      "| cert|docket|fed_rssd|rssdhcr|                name|            city|stalp|  zip|   repdte| rundate|bkclass|             address|             namehcr|offdom|offfor|stmult|specgrp|subchaps|       county|cbsa_metro|     cbsa_metro_name|    estymd|   insdate|   effdate|mutual|parcert|trust|regagnt|insagnt1|      fdicdbs|     fdicsupv|        fldoff|          fed|     occdist| otsregnm|offoa| cb|        inst.webaddr|intinc|eintexp|  nim|elnatr|nonii|ifiduc|iserchg|igltrad|idothnii|nonix| esal|epremagg|IDEOTH|idpretx|iglsec|itax|ibefxtr|extra|netinc|NETIMIN|NETINBM|ntlnls|eqcdiv|eqcstkrx|   noij|\n",
      "+-----+------+--------+-------+--------------------+----------------+-----+-----+---------+--------+-------+--------------------+--------------------+------+------+------+-------+--------+-------------+----------+--------------------+----------+----------+----------+------+-------+-----+-------+--------+-------------+-------------+--------------+-------------+------------+---------+-----+---+--------------------+------+-------+-----+------+-----+------+-------+-------+--------+-----+-----+--------+------+-------+------+----+-------+-----+------+-------+-------+------+------+--------+-------+\n",
      "| 4829|     0|  746223|2706726|           1880 Bank|       Cambridge|   MD|21613|3/31/2020|6/2/2020|     SM|        304 High St.|DELMARVA BANCSHAR...|     6|     0|  null|      4|       0|   Dorchester|      null|                null|  1/1/1880|  1/1/1934| 7/16/2015| Stock|      0|    1|    FED|     DIF|     New York|     NEW YORK|     Baltimore|     Richmond|Northeastern|Southeast|    0|  1|    www.1880bank.com|  3310|    305| 3005|   288|  408|     0|    181|   null|     227| 2404| 1046|     270|  1088|    721|     0| 167|    554|    0|   554|      0|    554|    20|   425|       0|  554.0|\n",
      "|57899|     0| 3317192|4526496|  1st Advantage Bank|    Saint Peters|   MO|63376|3/31/2020|6/2/2020|     NM|   240 Salt Lick Rd.|  BANC INVESTORS LLC|     1|     0|  null|      4|       0|Saint Charles|     41180|    St. Louis, MO-IL| 1/31/2005| 1/31/2005| 9/10/2010| Stock|      0|    0|   FDIC|     DIF|  Kansas City|  KANSAS CITY|     St. Louis|    St. louis|     Western|     West|    0|  1|www.1stadvantageb...|  1193|    326|  867|     9|   17|     0|      9|   null|       8|  737|  441|      66|   230|    138|     0|   0|    138|    0|   138|      0|    138|     0|     0|       0|  138.0|\n",
      "|22039|     0|  564856|1128415|            1st Bank|         Broadus|   MT|59317|3/31/2020|6/2/2020|     SM|   201 N. Wilbur Ave|1ST UNITED BCORP INC|     1|     0|  null|      2|       1| Powder River|      null|                null|  6/9/1975|  6/9/1975| 2/23/2018| Stock|      0|    0|    FED|     DIF|San Francisco|SAN FRANCISCO|      Billings|  Minneapolis|     Western|     West|    0|  1|  www.our1stbank.com|   461|     52|  409|  -750|   48|     0|     20|   null|      28|  259|  172|      27|    60|    948|     0|   0|    948|    0|   948|      0|    948|     0|  3600|       0|  948.0|\n",
      "| 4122|     0|  350657|   null|  1st Bank in Hominy|          Hominy|   OK|74035|3/31/2020|6/2/2020|     SM|        117 N. Price|                null|     1|     0|  null|      8|       1|        Osage|     46140|           Tulsa, OK| 4/12/1906|  1/1/1934| 7/19/2019| Stock|      0|    0|    FED|     DIF|       Dallas|       DALLAS|         Tulsa|  Kansas City|    Southern|     West|    0|  1|http://www.1stban...|   422|     71|  351|    15|   69|     0|     42|   null|      27|  323|  177|      36|   110|     82|     0|   0|     82|    0|    82|      0|     82|    -4|     0|       0|   82.0|\n",
      "|30367|  5236|  148470|3848427|1st Bank of Sea I...|   Sea Isle City|   NJ| 8243|3/31/2020|6/2/2020|     SB|    4301 Landis Ave.|SEA ISLE FINANCIA...|     3|     0|  null|      5|       0|     Cape May|     36140|      Ocean City, NJ|  1/1/1882|11/30/1948| 9/19/2014| Stock|      0|    0|   FDIC|     DIF|     New York|     NEW YORK|     Jamesburg| Philadelphia|Northeastern|Northeast|    0|  1|www.1stbankseaisl...|  2165|    103| 2062|     0|   95|     0|     53|   null|      42| 1877| 1046|     148|   683|    280|     0|  65|    215|    0|   215|      0|    215|     0|     0|       0|  215.0|\n",
      "|57298|     0| 3048487|3559844|       1st Bank Yuma|            Yuma|   AZ|85364|3/31/2020|6/2/2020|     NM|    2799 S. 4th Ave.|WESTERN ARIZONA B...|     5|     0|  null|      4|       0|         Yuma|     49740|            Yuma, AZ|  9/4/2001|  9/4/2001|  3/2/2018| Stock|      0|    0|   FDIC|     DIF|San Francisco|SAN FRANCISCO|       Phoenix|San Francisco|     Western|  Western|    0|  1|http://www.1stban...|  4375|    146| 4229|    82|  772|     0|    347|   null|     425| 3057| 1840|     343|   874|   1862|     0| 441|   1421|    0|  1421|      0|   1421|    98|  2066|       0| 1421.0|\n",
      "|32487|  8322|  941653|1064791|1st Cameron State...|         Cameron|   MO|64429|3/31/2020|6/2/2020|     NM|       124 S. Walnut|  C&M BANCSHARES INC|     2|     0|  null|      7|       0|      Clinton|     28140|  Kansas City, MO-KS| 8/11/1986| 8/11/1986| 6/29/2009| Stock|      0|    0|   FDIC|     DIF|  Kansas City|  KANSAS CITY|   Kansas City|  Kansas City|     Western|     West|    0|  1|  www.1stcameron.com|   405|     29|  376|     0|   30|     0|     27|   null|       3|  355|  179|      56|   120|     51|     0|  11|     40|    0|    40|      0|     40|     0|     0|       0|   40.0|\n",
      "|58485|     0| 3594797|   null|    1st Capital Bank|         Salinas|   CA|93901|3/31/2020|6/2/2020|     NM|150 Main St, # 15...|                null|     6|     0|  null|      4|       0|     Monterey|     41500|         Salinas, CA| 4/16/2007| 4/16/2007|  5/1/2017| Stock|      0|    0|   FDIC|     DIF|San Francisco|SAN FRANCISCO| San Francisco|San Francisco|     Western|  Western|    0|  1| www.1stcapital.bank|  6188|    323| 5865|   825|  288|     0|     94|   null|     194| 4495| 2824|     554|  1117|    833|     0| 225|    608|    0|   608|      0|    608|   -12|     0|      71|  608.0|\n",
      "|35456|     0| 2920773|3118513|1st Colonial Comm...|    Collingswood|   NJ| 8108|3/31/2020|6/2/2020|     NM|    1040 Haddon Ave.|1ST COLONIAL BCOR...|     3|     0|  null|      4|       0|       Camden|     37980|Philadelphia-Camd...| 6/29/2000| 6/29/2000|  2/3/2020| Stock|      0|    0|   FDIC|     DIF|     New York|     NEW YORK|     Jamesburg| Philadelphia|Northeastern|Northeast|    0|  1|http://www.1stcol...|  5936|   1300| 4636|  1237|  823|     0|     33|   null|     790| 4174| 2363|     227|  1584|     48|     0|  15|     33|    0|    33|      0|     33|  2415|     0|       0|   33.0|\n",
      "|11706| 12404|  338945|1204083|  1st Community Bank|        Sherrard|   IL|61281|3/31/2020|6/2/2020|     NM|         407 3rd St.| ILLINOIS HOLDING CO|     2|     0|  null|      2|       1|       Mercer|     19340|Davenport-Moline-...|  1/1/1910|  1/1/1934|10/15/2015| Stock|      0|    0|   FDIC|     DIF|      Chicago|      CHICAGO|Springfield Il|      Chicago|     Central|  Central|    0|  1|http://www.1stcom...|   640|    110|  530|     3|   19|     0|     17|   null|       2|  462|  293|      53|   116|     84|     1|   1|     84|    0|    84|      0|     84|     1|     0|       0|  83.01|\n",
      "|27552| 10064| 1412619|2784920|1st Constitution ...|        Cranbury|   NJ| 8512|3/31/2020|6/2/2020|     NM|        2650 Rt. 130|1ST CONSTITUTION ...|    27|     0|  null|      4|       0|    Middlesex|     35620|New York-Newark-J...| 7/24/1989| 7/24/1989| 11/8/2019| Stock|      0|    0|   FDIC|     DIF|     New York|     NEW YORK|     Jamesburg|     New York|Northeastern|Northeast|    0|  1|www.1stconstituti...| 16388|   3300|13088|   895| 2377|     0|    280|   null|    2097| 9721| 6168|    1511|  2042|   4849|     8|1316|   3541|    0|  3541|      0|   3541|   165|  1083|     291|3534.68|\n",
      "|34393|     0| 2531562|2531553|     1st Equity Bank|          Skokie|   IL|60076|3/31/2020|6/2/2020|     NM|3956 W. Dempster St.|   FIRST EQUITY CORP|     1|     0|  null|      4|       1|         Cook|     16980|Chicago-Napervill...|  6/9/1997|  6/9/1997| 3/31/2006| Stock|      0|    0|   FDIC|     DIF|      Chicago|      CHICAGO|       Chicago|      Chicago|     Central|  Central|    0|  1|www.1stequitybank...|   982|    269|  713|     0|   27|     0|     17|   null|      10|  474|  235|      75|   164|    266|     0|   0|    266|    0|   266|      0|    266|    -1|   300|       0|  266.0|\n",
      "|57611|     0| 3203996|3203987|1st Equity Bank N...|   Buffalo Grove|   IL|60089|3/31/2020|6/2/2020|     NM|     1330 Dundee Rd.|NORTHWEST EQUITY ...|     1|     0|  null|      4|       1|         Cook|     16980|Chicago-Napervill...|10/15/2003|10/15/2003| 3/31/2006| Stock|      0|    0|   FDIC|     DIF|      Chicago|      CHICAGO|       Chicago|      Chicago|     Central|  Central|    0|  1|                null|   432|    156|  276|     0|   45|     0|      1|   null|      44|  254|  129|      55|    70|     67|     0|   0|     67|    0|    67|      0|     67|    -4|    85|       0|   67.0|\n",
      "|31410|  6903|  535575|3834710|1st Federal Savin...|      Walterboro|   SC|29488|3/31/2020|6/2/2020|     SB| 300 Robertson Blvd.|FIRST CAROLINA BA...|     2|     0|  null|      5|       0|     Colleton|      null|                null|  1/1/1962|  8/9/1963| 4/30/2018| Stock|      0|    0|   FDIC|     DIF|      Atlanta|      ATLANTA|   Columbia Sc|     Richmond|Northeastern|Southeast|    0|  1|www.1stfederalofs...|  1056|    145|  911|    15|  273|     0|    111|   null|     162| 1000|  542|      90|   368|    169|     0|  38|    131|    0|   131|      0|    131|     6|     0|       0|  131.0|\n",
      "| 1673|     0|  526452|   null|1st Financial Ban...|    Dakota Dunes|   SD|57049|3/31/2020|6/2/2020|     NM|331 N. Dakota Dun...|                null|     2|     0|  null|      3|       0|        Union|     43580|Sioux City, IA-NE-SD|  1/1/1910|  1/1/1934| 3/31/2006| Stock|      0|    0|   FDIC|     DIF|  Kansas City|  KANSAS CITY|   Sioux Falls|  Minneapolis|     Western|     West|    0|  0|http://www.1fbusa...| 29510|   3689|25821|  6001| 4077|     0|      9|      0|    4068|21987| 8364|    2999| 10624|   1910|     0| 622|   1288|    0|  1288|      0|   1288|  5925|     0|       0| 1288.0|\n",
      "| 6646|  8805|  480723|   null|   1st National Bank|         Lebanon|   OH|45036|3/31/2020|6/2/2020|      N|     730 E. Main St.|                null|    10|     0|  null|      4|       1|       Warren|     17140|Cincinnati, OH-KY-IN|  1/1/1907|  1/1/1934| 11/1/2012| Stock|      0|    0|    OCC|     DIF|      Chicago|      CHICAGO|    Cincinnati|    Cleveland|     Central|  Central|    0|  1| WWW.BANKWITH1ST.COM|  1919|    569| 1350|   145| 1590|     0|    139|      0|    1451| 2427| 1505|     264|   658|    368|     0|   0|    368|    0|   368|      0|    368|    17|     0|       4|  368.0|\n",
      "|57633|     0| 1018927|4347208|1st Security Bank...|Mountlake Terrac|   WA|98043|3/31/2020|6/2/2020|     SB|6920 220th St. Sw...|        FS BCORP INC|    23|     0|  null|      4|       0|    Snohomish|     42660|Seattle-Tacoma-Be...|  4/1/2004|  4/1/2004|11/15/2018| Stock|      0|    0|   FDIC|     DIF|San Francisco|SAN FRANCISCO|       Seattle|San Francisco|     Western|     West|    0|  1|       WWW.FSBWA.com| 22096|   4392|17704|  3686| 7907|     0|    577|   null|    7330|15209| 9547|    1485|  4177|   6716|     0|1374|   5342|    0|  5342|      0|   5342|    43|  7216|       0| 5342.0|\n",
      "| 9087| 10250|  991340|1199602|     1st Source Bank|      South Bend|   IN|46601|3/31/2020|6/2/2020|     SM|100 N. Michigan S...|     1ST SOURCE CORP|    83|     0|  null|      4|       0|    St Joseph|     43780|South Bend-Mishaw...|  1/1/1922|  1/1/1934|12/31/2015| Stock|      0|    1|    FED|     DIF|      Chicago|      CHICAGO|  Indianapolis|      Chicago|     Central|  Central|    0|  1|   www.1stsource.com| 67686|  11337|56349| 11353|24767|  4848|   2605|      0|   17314|47108|24326|    4642| 18140|  22655|   280|5378|  17557|    0| 17552|      5|  17557|  1809| 11552|       0|17335.8|\n",
      "|57626|     0| 3223305|3223293|      1st State Bank|         Saginaw|   MI|48604|3/31/2020|6/2/2020|     NM|4800 Fashion Sq. ...|1ST STATE FINANCI...|     5|     0|  null|      4|       0|      Saginaw|     40980|         Saginaw, MI| 4/12/2004| 4/12/2004| 8/19/2013| Stock|      0|    0|   FDIC|     DIF|      Chicago|      CHICAGO|       Detroit|      Chicago|     Central|  Central|    0|  1|  www.1ststatebk.com|  3192|    356| 2836|   225|  500|     0|     55|   null|     445| 2158| 1280|     218|   660|    953|     0| 202|    751|    0|   751|      0|    751|   -61|    65|       6|  751.0|\n",
      "|22543| 14261|  170640|3070152|1st State Bank of...|      Mason City|   IL|62664|3/31/2020|6/2/2020|     NM|      123 W. Elm St.|  FIRSTATE BCORP INC|     1|     0|  null|      7|       1|        Mason|      null|                null| 11/1/1977| 11/1/1977| 3/31/2006| Stock|      0|    0|   FDIC|     DIF|      Chicago|      CHICAGO|Springfield Il|      Chicago|     Central|  Central|    0|  1|www.1ststatebankm...|   198|     31|  167|     0|   12|     0|      6|   null|       6|  137|   62|      19|    56|     42|     0|   0|     42|    0|    42|      0|     42|     0|   108|       0|   42.0|\n",
      "+-----+------+--------+-------+--------------------+----------------+-----+-----+---------+--------+-------+--------------------+--------------------+------+------+------+-------+--------+-------------+----------+--------------------+----------+----------+----------+------+-------+-----+-------+--------+-------------+-------------+--------------+-------------+------------+---------+-----+---+--------------------+------+-------+-----+------+-----+------+-------+-------+--------+-----+-----+--------+------+-------+------+----+-------+-----+------+-------+-------+------+------+--------+-------+\n",
      "only showing top 20 rows\n",
      "\n"
     ]
    }
   ],
   "source": [
    "csvdataDF.show()"
   ]
  },
  {
   "cell_type": "code",
   "execution_count": 30,
   "metadata": {},
   "outputs": [
    {
     "name": "stdout",
     "output_type": "stream",
     "text": [
      "root\n",
      " |-- cert: integer (nullable = true)\n",
      " |-- docket: integer (nullable = true)\n",
      " |-- fed_rssd: integer (nullable = true)\n",
      " |-- rssdhcr: integer (nullable = true)\n",
      " |-- name: string (nullable = true)\n",
      " |-- city: string (nullable = true)\n",
      " |-- stalp: string (nullable = true)\n",
      " |-- zip: integer (nullable = true)\n",
      " |-- repdte: string (nullable = true)\n",
      " |-- rundate: string (nullable = true)\n",
      " |-- bkclass: string (nullable = true)\n",
      " |-- address: string (nullable = true)\n",
      " |-- namehcr: string (nullable = true)\n",
      " |-- offdom: integer (nullable = true)\n",
      " |-- offfor: integer (nullable = true)\n",
      " |-- stmult: string (nullable = true)\n",
      " |-- specgrp: integer (nullable = true)\n",
      " |-- subchaps: integer (nullable = true)\n",
      " |-- county: string (nullable = true)\n",
      " |-- cbsa_metro: integer (nullable = true)\n",
      " |-- cbsa_metro_name: string (nullable = true)\n",
      " |-- estymd: string (nullable = true)\n",
      " |-- insdate: string (nullable = true)\n",
      " |-- effdate: string (nullable = true)\n",
      " |-- mutual: string (nullable = true)\n",
      " |-- parcert: integer (nullable = true)\n",
      " |-- trust: integer (nullable = true)\n",
      " |-- regagnt: string (nullable = true)\n",
      " |-- insagnt1: string (nullable = true)\n",
      " |-- fdicdbs: string (nullable = true)\n",
      " |-- fdicsupv: string (nullable = true)\n",
      " |-- fldoff: string (nullable = true)\n",
      " |-- fed: string (nullable = true)\n",
      " |-- occdist: string (nullable = true)\n",
      " |-- otsregnm: string (nullable = true)\n",
      " |-- offoa: integer (nullable = true)\n",
      " |-- cb: integer (nullable = true)\n",
      " |-- inst.webaddr: string (nullable = true)\n",
      " |-- intinc: integer (nullable = true)\n",
      " |-- eintexp: integer (nullable = true)\n",
      " |-- nim: integer (nullable = true)\n",
      " |-- elnatr: integer (nullable = true)\n",
      " |-- nonii: integer (nullable = true)\n",
      " |-- ifiduc: integer (nullable = true)\n",
      " |-- iserchg: integer (nullable = true)\n",
      " |-- igltrad: integer (nullable = true)\n",
      " |-- idothnii: integer (nullable = true)\n",
      " |-- nonix: integer (nullable = true)\n",
      " |-- esal: integer (nullable = true)\n",
      " |-- epremagg: integer (nullable = true)\n",
      " |-- IDEOTH: integer (nullable = true)\n",
      " |-- idpretx: integer (nullable = true)\n",
      " |-- iglsec: integer (nullable = true)\n",
      " |-- itax: integer (nullable = true)\n",
      " |-- ibefxtr: integer (nullable = true)\n",
      " |-- extra: integer (nullable = true)\n",
      " |-- netinc: integer (nullable = true)\n",
      " |-- NETIMIN: integer (nullable = true)\n",
      " |-- NETINBM: integer (nullable = true)\n",
      " |-- ntlnls: integer (nullable = true)\n",
      " |-- eqcdiv: integer (nullable = true)\n",
      " |-- eqcstkrx: integer (nullable = true)\n",
      " |-- noij: double (nullable = true)\n",
      "\n"
     ]
    }
   ],
   "source": [
    "csvdataDF.printSchema()"
   ]
  },
  {
   "cell_type": "code",
   "execution_count": 7,
   "metadata": {
    "ExecuteTime": {
     "end_time": "2021-07-24T13:03:03.372834Z",
     "start_time": "2021-07-24T13:03:03.261259Z"
    }
   },
   "outputs": [],
   "source": [
    "filteredCSVDF = spark.sql(\"select * from incomes where city='York'\")"
   ]
  },
  {
   "cell_type": "code",
   "execution_count": 8,
   "metadata": {
    "ExecuteTime": {
     "end_time": "2021-07-24T13:03:07.609433Z",
     "start_time": "2021-07-24T13:03:07.027198Z"
    }
   },
   "outputs": [
    {
     "name": "stdout",
     "output_type": "stream",
     "text": [
      "+-----+------+--------+-------+--------------------+----+-----+-----+---------+--------+-------+--------------------+--------------------+------+------+------+-------+--------+------+----------+--------------------+----------+----------+---------+------+-------+-----+-------+--------+-----------+-----------+------------+------------+------------+---------+-----+---+--------------------+------+-------+-----+------+-----+------+-------+-------+--------+-----+----+--------+------+-------+------+----+-------+-----+------+-------+-------+------+------+--------+--------+\n",
      "| cert|docket|fed_rssd|rssdhcr|                name|city|stalp|  zip|   repdte| rundate|bkclass|             address|             namehcr|offdom|offfor|stmult|specgrp|subchaps|county|cbsa_metro|     cbsa_metro_name|    estymd|   insdate|  effdate|mutual|parcert|trust|regagnt|insagnt1|    fdicdbs|   fdicsupv|      fldoff|         fed|     occdist| otsregnm|offoa| cb|        inst.webaddr|intinc|eintexp|  nim|elnatr|nonii|ifiduc|iserchg|igltrad|idothnii|nonix|esal|epremagg|IDEOTH|idpretx|iglsec|itax|ibefxtr|extra|netinc|NETIMIN|NETINBM|ntlnls|eqcdiv|eqcstkrx|    noij|\n",
      "+-----+------+--------+-------+--------------------+----+-----+-----+---------+--------+-------+--------------------+--------------------+------+------+------+-------+--------+------+----------+--------------------+----------+----------+---------+------+-------+-----+-------+--------+-----------+-----------+------------+------------+------------+---------+-----+---+--------------------+------+-------+-----+------+-----+------+-------+-------+--------+-----+----+--------+------+-------+------+----+-------+-----+------+-------+-------+------+------+--------+--------+\n",
      "|15104|     0|  922924|1076208|        Bank of York|York|   SC|29745|3/31/2020|6/2/2020|     NM|     13 W Liberty St| YORK BANCSHARES INC|     4|     0|  null|      7|       0|  York|     16740|Charlotte-Concord...| 4/15/1935| 4/24/1935|3/31/2006| Stock|      0|    0|   FDIC|     DIF|    Atlanta|    ATLANTA| Columbia Sc|    Richmond|Northeastern|Southeast|    0|  1|  www.bankofyork.com|  1777|     91| 1686|     0|  229|     0|     58|   null|     171| 1291| 732|     119|   440|    624|     0| 129|    495|    0|   495|      0|    495|    36|     0|       0|   495.0|\n",
      "| 5496|     0|  403151|1050646|    Cornerstone Bank|York|   NE|68467|3/31/2020|6/2/2020|     SM| 529 N. Lincoln Ave.| FIRST YORK BAN CORP|    45|     0|  null|      2|       1|  York|      null|                null| 4/22/1882|  1/1/1934|12/5/2019| Stock|      0|    1|    FED|     DIF|Kansas City|KANSAS CITY|Grand Island| Kansas City|     Western|  Western|    0|  1|www.cornerstoneco...| 18664|   4258|14406|   298| 3937|   550|    416|      0|    2971|12539|7775|    1488|  3276|   5506|  -149| 176|   5181|    0|  5181|      0|   5181|   100|  3000|       0| 5325.53|\n",
      "|13879| 10161|  556815|1142475|PeoplesBank, a Co...|York|   PA|17403|3/31/2020|6/2/2020|     NM|109 Leader Height...|CODORUS VALLEY BC...|    38|     0|  null|      4|       0|  York|     49620|    York-Hanover, PA| 1/25/1934| 2/10/1934|12/4/2018| Stock|      0|    1|   FDIC|     DIF|   New York|   NEW YORK|  Harrisburg|Philadelphia|Northeastern|Northeast|    0|  0|http://www.people...| 20186|   4731|15455|  9435| 3408|   994|    558|      0|    1856|13148|7808|    1663|  3677|  -3720|    15|-921|  -2784|    0| -2784|      0|  -2784|  7663|  1300|       0|-2795.85|\n",
      "|16079|     0|  731050|4771997|     York State Bank|York|   NE|68467|3/31/2020|6/2/2020|     NM|    700 Lincoln Ave.|   YORK HOLDINGS INC|     5|     0|  null|      2|       0|  York|      null|                null|  7/1/1943| 7/15/1943| 6/2/2011| Stock|      0|    0|   FDIC|     DIF|Kansas City|KANSAS CITY|Grand Island| Kansas City|     Western|  Western|    0|  1|www.yorkstatebank...|  1542|    232| 1310|     0|  194|     0|     76|   null|     118|  958| 611|      71|   276|    546|    -3| 122|    421|    0|   421|      0|    421|     1|     0|       0|  423.37|\n",
      "|57377|     0| 3145797|   null|York Traditions Bank|York|   PA|17402|3/31/2020|6/2/2020|     NM| 235 St. Charles Way|                null|     7|     0|  null|      4|       0|  York|     49620|    York-Hanover, PA|10/28/2002|10/28/2002|3/18/2020| Stock|      0|    0|   FDIC|     DIF|   New York|   NEW YORK|  Harrisburg|Philadelphia|Northeastern|Northeast|    0|  1|http://www.yorktr...|  5683|   1241| 4442|   393| 1829|     0|     93|   null|    1736| 4556|2774|     604|  1178|   1322|   116| 266|   1172|    0|  1172|      0|   1172|   612|     0|      61| 1076.88|\n",
      "+-----+------+--------+-------+--------------------+----+-----+-----+---------+--------+-------+--------------------+--------------------+------+------+------+-------+--------+------+----------+--------------------+----------+----------+---------+------+-------+-----+-------+--------+-----------+-----------+------------+------------+------------+---------+-----+---+--------------------+------+-------+-----+------+-----+------+-------+-------+--------+-----+----+--------+------+-------+------+----+-------+-----+------+-------+-------+------+------+--------+--------+\n",
      "\n"
     ]
    }
   ],
   "source": [
    "filteredCSVDF.show()"
   ]
  },
  {
   "cell_type": "markdown",
   "metadata": {},
   "source": [
    "# Non-partitioned Parquet"
   ]
  },
  {
   "cell_type": "markdown",
   "metadata": {},
   "source": [
    "## Fresh data"
   ]
  },
  {
   "cell_type": "code",
   "execution_count": 9,
   "metadata": {
    "ExecuteTime": {
     "end_time": "2021-07-24T13:03:17.579966Z",
     "start_time": "2021-07-24T13:03:15.286583Z"
    }
   },
   "outputs": [],
   "source": [
    "csvdataDF.write.format(\"parquet\").mode(\"overwrite\").save(\"income_nonpartitioned.parquet\")"
   ]
  },
  {
   "cell_type": "code",
   "execution_count": 10,
   "metadata": {
    "ExecuteTime": {
     "end_time": "2021-07-24T13:03:20.846208Z",
     "start_time": "2021-07-24T13:03:20.300438Z"
    }
   },
   "outputs": [
    {
     "name": "stdout",
     "output_type": "stream",
     "text": [
      "PQ Non-partitioned partitioned count  5125\n"
     ]
    }
   ],
   "source": [
    "pqDF = spark.read.load(\"income_nonpartitioned.parquet\", format=\"parquet\")\n",
    "print(\"PQ Non-partitioned partitioned count \", pqDF.count())"
   ]
  },
  {
   "cell_type": "code",
   "execution_count": 11,
   "metadata": {
    "ExecuteTime": {
     "end_time": "2021-07-24T13:03:24.998014Z",
     "start_time": "2021-07-24T13:03:24.571785Z"
    }
   },
   "outputs": [
    {
     "name": "stdout",
     "output_type": "stream",
     "text": [
      "+-----+------+--------+-------+--------------------+----------------+-----+-----+---------+--------+-------+--------------------+--------------------+------+------+------+-------+--------+-------------+----------+--------------------+----------+----------+----------+------+-------+-----+-------+--------+-------------+-------------+--------------+-------------+------------+---------+-----+---+--------------------+------+-------+-----+------+-----+------+-------+-------+--------+-----+-----+--------+------+-------+------+----+-------+-----+------+-------+-------+------+------+--------+-------+\n",
      "| cert|docket|fed_rssd|rssdhcr|                name|            city|stalp|  zip|   repdte| rundate|bkclass|             address|             namehcr|offdom|offfor|stmult|specgrp|subchaps|       county|cbsa_metro|     cbsa_metro_name|    estymd|   insdate|   effdate|mutual|parcert|trust|regagnt|insagnt1|      fdicdbs|     fdicsupv|        fldoff|          fed|     occdist| otsregnm|offoa| cb|        inst.webaddr|intinc|eintexp|  nim|elnatr|nonii|ifiduc|iserchg|igltrad|idothnii|nonix| esal|epremagg|IDEOTH|idpretx|iglsec|itax|ibefxtr|extra|netinc|NETIMIN|NETINBM|ntlnls|eqcdiv|eqcstkrx|   noij|\n",
      "+-----+------+--------+-------+--------------------+----------------+-----+-----+---------+--------+-------+--------------------+--------------------+------+------+------+-------+--------+-------------+----------+--------------------+----------+----------+----------+------+-------+-----+-------+--------+-------------+-------------+--------------+-------------+------------+---------+-----+---+--------------------+------+-------+-----+------+-----+------+-------+-------+--------+-----+-----+--------+------+-------+------+----+-------+-----+------+-------+-------+------+------+--------+-------+\n",
      "| 4829|     0|  746223|2706726|           1880 Bank|       Cambridge|   MD|21613|3/31/2020|6/2/2020|     SM|        304 High St.|DELMARVA BANCSHAR...|     6|     0|  null|      4|       0|   Dorchester|      null|                null|  1/1/1880|  1/1/1934| 7/16/2015| Stock|      0|    1|    FED|     DIF|     New York|     NEW YORK|     Baltimore|     Richmond|Northeastern|Southeast|    0|  1|    www.1880bank.com|  3310|    305| 3005|   288|  408|     0|    181|   null|     227| 2404| 1046|     270|  1088|    721|     0| 167|    554|    0|   554|      0|    554|    20|   425|       0|  554.0|\n",
      "|57899|     0| 3317192|4526496|  1st Advantage Bank|    Saint Peters|   MO|63376|3/31/2020|6/2/2020|     NM|   240 Salt Lick Rd.|  BANC INVESTORS LLC|     1|     0|  null|      4|       0|Saint Charles|     41180|    St. Louis, MO-IL| 1/31/2005| 1/31/2005| 9/10/2010| Stock|      0|    0|   FDIC|     DIF|  Kansas City|  KANSAS CITY|     St. Louis|    St. louis|     Western|     West|    0|  1|www.1stadvantageb...|  1193|    326|  867|     9|   17|     0|      9|   null|       8|  737|  441|      66|   230|    138|     0|   0|    138|    0|   138|      0|    138|     0|     0|       0|  138.0|\n",
      "|22039|     0|  564856|1128415|            1st Bank|         Broadus|   MT|59317|3/31/2020|6/2/2020|     SM|   201 N. Wilbur Ave|1ST UNITED BCORP INC|     1|     0|  null|      2|       1| Powder River|      null|                null|  6/9/1975|  6/9/1975| 2/23/2018| Stock|      0|    0|    FED|     DIF|San Francisco|SAN FRANCISCO|      Billings|  Minneapolis|     Western|     West|    0|  1|  www.our1stbank.com|   461|     52|  409|  -750|   48|     0|     20|   null|      28|  259|  172|      27|    60|    948|     0|   0|    948|    0|   948|      0|    948|     0|  3600|       0|  948.0|\n",
      "| 4122|     0|  350657|   null|  1st Bank in Hominy|          Hominy|   OK|74035|3/31/2020|6/2/2020|     SM|        117 N. Price|                null|     1|     0|  null|      8|       1|        Osage|     46140|           Tulsa, OK| 4/12/1906|  1/1/1934| 7/19/2019| Stock|      0|    0|    FED|     DIF|       Dallas|       DALLAS|         Tulsa|  Kansas City|    Southern|     West|    0|  1|http://www.1stban...|   422|     71|  351|    15|   69|     0|     42|   null|      27|  323|  177|      36|   110|     82|     0|   0|     82|    0|    82|      0|     82|    -4|     0|       0|   82.0|\n",
      "|30367|  5236|  148470|3848427|1st Bank of Sea I...|   Sea Isle City|   NJ| 8243|3/31/2020|6/2/2020|     SB|    4301 Landis Ave.|SEA ISLE FINANCIA...|     3|     0|  null|      5|       0|     Cape May|     36140|      Ocean City, NJ|  1/1/1882|11/30/1948| 9/19/2014| Stock|      0|    0|   FDIC|     DIF|     New York|     NEW YORK|     Jamesburg| Philadelphia|Northeastern|Northeast|    0|  1|www.1stbankseaisl...|  2165|    103| 2062|     0|   95|     0|     53|   null|      42| 1877| 1046|     148|   683|    280|     0|  65|    215|    0|   215|      0|    215|     0|     0|       0|  215.0|\n",
      "|57298|     0| 3048487|3559844|       1st Bank Yuma|            Yuma|   AZ|85364|3/31/2020|6/2/2020|     NM|    2799 S. 4th Ave.|WESTERN ARIZONA B...|     5|     0|  null|      4|       0|         Yuma|     49740|            Yuma, AZ|  9/4/2001|  9/4/2001|  3/2/2018| Stock|      0|    0|   FDIC|     DIF|San Francisco|SAN FRANCISCO|       Phoenix|San Francisco|     Western|  Western|    0|  1|http://www.1stban...|  4375|    146| 4229|    82|  772|     0|    347|   null|     425| 3057| 1840|     343|   874|   1862|     0| 441|   1421|    0|  1421|      0|   1421|    98|  2066|       0| 1421.0|\n",
      "|32487|  8322|  941653|1064791|1st Cameron State...|         Cameron|   MO|64429|3/31/2020|6/2/2020|     NM|       124 S. Walnut|  C&M BANCSHARES INC|     2|     0|  null|      7|       0|      Clinton|     28140|  Kansas City, MO-KS| 8/11/1986| 8/11/1986| 6/29/2009| Stock|      0|    0|   FDIC|     DIF|  Kansas City|  KANSAS CITY|   Kansas City|  Kansas City|     Western|     West|    0|  1|  www.1stcameron.com|   405|     29|  376|     0|   30|     0|     27|   null|       3|  355|  179|      56|   120|     51|     0|  11|     40|    0|    40|      0|     40|     0|     0|       0|   40.0|\n",
      "|58485|     0| 3594797|   null|    1st Capital Bank|         Salinas|   CA|93901|3/31/2020|6/2/2020|     NM|150 Main St, # 15...|                null|     6|     0|  null|      4|       0|     Monterey|     41500|         Salinas, CA| 4/16/2007| 4/16/2007|  5/1/2017| Stock|      0|    0|   FDIC|     DIF|San Francisco|SAN FRANCISCO| San Francisco|San Francisco|     Western|  Western|    0|  1| www.1stcapital.bank|  6188|    323| 5865|   825|  288|     0|     94|   null|     194| 4495| 2824|     554|  1117|    833|     0| 225|    608|    0|   608|      0|    608|   -12|     0|      71|  608.0|\n",
      "|35456|     0| 2920773|3118513|1st Colonial Comm...|    Collingswood|   NJ| 8108|3/31/2020|6/2/2020|     NM|    1040 Haddon Ave.|1ST COLONIAL BCOR...|     3|     0|  null|      4|       0|       Camden|     37980|Philadelphia-Camd...| 6/29/2000| 6/29/2000|  2/3/2020| Stock|      0|    0|   FDIC|     DIF|     New York|     NEW YORK|     Jamesburg| Philadelphia|Northeastern|Northeast|    0|  1|http://www.1stcol...|  5936|   1300| 4636|  1237|  823|     0|     33|   null|     790| 4174| 2363|     227|  1584|     48|     0|  15|     33|    0|    33|      0|     33|  2415|     0|       0|   33.0|\n",
      "|11706| 12404|  338945|1204083|  1st Community Bank|        Sherrard|   IL|61281|3/31/2020|6/2/2020|     NM|         407 3rd St.| ILLINOIS HOLDING CO|     2|     0|  null|      2|       1|       Mercer|     19340|Davenport-Moline-...|  1/1/1910|  1/1/1934|10/15/2015| Stock|      0|    0|   FDIC|     DIF|      Chicago|      CHICAGO|Springfield Il|      Chicago|     Central|  Central|    0|  1|http://www.1stcom...|   640|    110|  530|     3|   19|     0|     17|   null|       2|  462|  293|      53|   116|     84|     1|   1|     84|    0|    84|      0|     84|     1|     0|       0|  83.01|\n",
      "|27552| 10064| 1412619|2784920|1st Constitution ...|        Cranbury|   NJ| 8512|3/31/2020|6/2/2020|     NM|        2650 Rt. 130|1ST CONSTITUTION ...|    27|     0|  null|      4|       0|    Middlesex|     35620|New York-Newark-J...| 7/24/1989| 7/24/1989| 11/8/2019| Stock|      0|    0|   FDIC|     DIF|     New York|     NEW YORK|     Jamesburg|     New York|Northeastern|Northeast|    0|  1|www.1stconstituti...| 16388|   3300|13088|   895| 2377|     0|    280|   null|    2097| 9721| 6168|    1511|  2042|   4849|     8|1316|   3541|    0|  3541|      0|   3541|   165|  1083|     291|3534.68|\n",
      "|34393|     0| 2531562|2531553|     1st Equity Bank|          Skokie|   IL|60076|3/31/2020|6/2/2020|     NM|3956 W. Dempster St.|   FIRST EQUITY CORP|     1|     0|  null|      4|       1|         Cook|     16980|Chicago-Napervill...|  6/9/1997|  6/9/1997| 3/31/2006| Stock|      0|    0|   FDIC|     DIF|      Chicago|      CHICAGO|       Chicago|      Chicago|     Central|  Central|    0|  1|www.1stequitybank...|   982|    269|  713|     0|   27|     0|     17|   null|      10|  474|  235|      75|   164|    266|     0|   0|    266|    0|   266|      0|    266|    -1|   300|       0|  266.0|\n",
      "|57611|     0| 3203996|3203987|1st Equity Bank N...|   Buffalo Grove|   IL|60089|3/31/2020|6/2/2020|     NM|     1330 Dundee Rd.|NORTHWEST EQUITY ...|     1|     0|  null|      4|       1|         Cook|     16980|Chicago-Napervill...|10/15/2003|10/15/2003| 3/31/2006| Stock|      0|    0|   FDIC|     DIF|      Chicago|      CHICAGO|       Chicago|      Chicago|     Central|  Central|    0|  1|                null|   432|    156|  276|     0|   45|     0|      1|   null|      44|  254|  129|      55|    70|     67|     0|   0|     67|    0|    67|      0|     67|    -4|    85|       0|   67.0|\n",
      "|31410|  6903|  535575|3834710|1st Federal Savin...|      Walterboro|   SC|29488|3/31/2020|6/2/2020|     SB| 300 Robertson Blvd.|FIRST CAROLINA BA...|     2|     0|  null|      5|       0|     Colleton|      null|                null|  1/1/1962|  8/9/1963| 4/30/2018| Stock|      0|    0|   FDIC|     DIF|      Atlanta|      ATLANTA|   Columbia Sc|     Richmond|Northeastern|Southeast|    0|  1|www.1stfederalofs...|  1056|    145|  911|    15|  273|     0|    111|   null|     162| 1000|  542|      90|   368|    169|     0|  38|    131|    0|   131|      0|    131|     6|     0|       0|  131.0|\n",
      "| 1673|     0|  526452|   null|1st Financial Ban...|    Dakota Dunes|   SD|57049|3/31/2020|6/2/2020|     NM|331 N. Dakota Dun...|                null|     2|     0|  null|      3|       0|        Union|     43580|Sioux City, IA-NE-SD|  1/1/1910|  1/1/1934| 3/31/2006| Stock|      0|    0|   FDIC|     DIF|  Kansas City|  KANSAS CITY|   Sioux Falls|  Minneapolis|     Western|     West|    0|  0|http://www.1fbusa...| 29510|   3689|25821|  6001| 4077|     0|      9|      0|    4068|21987| 8364|    2999| 10624|   1910|     0| 622|   1288|    0|  1288|      0|   1288|  5925|     0|       0| 1288.0|\n",
      "| 6646|  8805|  480723|   null|   1st National Bank|         Lebanon|   OH|45036|3/31/2020|6/2/2020|      N|     730 E. Main St.|                null|    10|     0|  null|      4|       1|       Warren|     17140|Cincinnati, OH-KY-IN|  1/1/1907|  1/1/1934| 11/1/2012| Stock|      0|    0|    OCC|     DIF|      Chicago|      CHICAGO|    Cincinnati|    Cleveland|     Central|  Central|    0|  1| WWW.BANKWITH1ST.COM|  1919|    569| 1350|   145| 1590|     0|    139|      0|    1451| 2427| 1505|     264|   658|    368|     0|   0|    368|    0|   368|      0|    368|    17|     0|       4|  368.0|\n",
      "|57633|     0| 1018927|4347208|1st Security Bank...|Mountlake Terrac|   WA|98043|3/31/2020|6/2/2020|     SB|6920 220th St. Sw...|        FS BCORP INC|    23|     0|  null|      4|       0|    Snohomish|     42660|Seattle-Tacoma-Be...|  4/1/2004|  4/1/2004|11/15/2018| Stock|      0|    0|   FDIC|     DIF|San Francisco|SAN FRANCISCO|       Seattle|San Francisco|     Western|     West|    0|  1|       WWW.FSBWA.com| 22096|   4392|17704|  3686| 7907|     0|    577|   null|    7330|15209| 9547|    1485|  4177|   6716|     0|1374|   5342|    0|  5342|      0|   5342|    43|  7216|       0| 5342.0|\n",
      "| 9087| 10250|  991340|1199602|     1st Source Bank|      South Bend|   IN|46601|3/31/2020|6/2/2020|     SM|100 N. Michigan S...|     1ST SOURCE CORP|    83|     0|  null|      4|       0|    St Joseph|     43780|South Bend-Mishaw...|  1/1/1922|  1/1/1934|12/31/2015| Stock|      0|    1|    FED|     DIF|      Chicago|      CHICAGO|  Indianapolis|      Chicago|     Central|  Central|    0|  1|   www.1stsource.com| 67686|  11337|56349| 11353|24767|  4848|   2605|      0|   17314|47108|24326|    4642| 18140|  22655|   280|5378|  17557|    0| 17552|      5|  17557|  1809| 11552|       0|17335.8|\n",
      "|57626|     0| 3223305|3223293|      1st State Bank|         Saginaw|   MI|48604|3/31/2020|6/2/2020|     NM|4800 Fashion Sq. ...|1ST STATE FINANCI...|     5|     0|  null|      4|       0|      Saginaw|     40980|         Saginaw, MI| 4/12/2004| 4/12/2004| 8/19/2013| Stock|      0|    0|   FDIC|     DIF|      Chicago|      CHICAGO|       Detroit|      Chicago|     Central|  Central|    0|  1|  www.1ststatebk.com|  3192|    356| 2836|   225|  500|     0|     55|   null|     445| 2158| 1280|     218|   660|    953|     0| 202|    751|    0|   751|      0|    751|   -61|    65|       6|  751.0|\n",
      "|22543| 14261|  170640|3070152|1st State Bank of...|      Mason City|   IL|62664|3/31/2020|6/2/2020|     NM|      123 W. Elm St.|  FIRSTATE BCORP INC|     1|     0|  null|      7|       1|        Mason|      null|                null| 11/1/1977| 11/1/1977| 3/31/2006| Stock|      0|    0|   FDIC|     DIF|      Chicago|      CHICAGO|Springfield Il|      Chicago|     Central|  Central|    0|  1|www.1ststatebankm...|   198|     31|  167|     0|   12|     0|      6|   null|       6|  137|   62|      19|    56|     42|     0|   0|     42|    0|    42|      0|     42|     0|   108|       0|   42.0|\n",
      "+-----+------+--------+-------+--------------------+----------------+-----+-----+---------+--------+-------+--------------------+--------------------+------+------+------+-------+--------+-------------+----------+--------------------+----------+----------+----------+------+-------+-----+-------+--------+-------------+-------------+--------------+-------------+------------+---------+-----+---+--------------------+------+-------+-----+------+-----+------+-------+-------+--------+-----+-----+--------+------+-------+------+----+-------+-----+------+-------+-------+------+------+--------+-------+\n",
      "only showing top 20 rows\n",
      "\n"
     ]
    }
   ],
   "source": [
    "pqDF.show()"
   ]
  },
  {
   "cell_type": "markdown",
   "metadata": {},
   "source": [
    "## Appending data"
   ]
  },
  {
   "cell_type": "code",
   "execution_count": 12,
   "metadata": {
    "ExecuteTime": {
     "end_time": "2021-07-24T13:03:31.092831Z",
     "start_time": "2021-07-24T13:03:30.049195Z"
    }
   },
   "outputs": [],
   "source": [
    "csvdataDF.write.format(\"parquet\").mode(\"append\").save(\"income_nonpartitioned.parquet\")"
   ]
  },
  {
   "cell_type": "code",
   "execution_count": 13,
   "metadata": {
    "ExecuteTime": {
     "end_time": "2021-07-24T13:03:33.410982Z",
     "start_time": "2021-07-24T13:03:33.041952Z"
    }
   },
   "outputs": [
    {
     "name": "stdout",
     "output_type": "stream",
     "text": [
      "PQ Non-partitioned partitioned count  10250\n"
     ]
    }
   ],
   "source": [
    "pqDF = spark.read.load(\"income_nonpartitioned.parquet\", format=\"parquet\")\n",
    "print(\"PQ Non-partitioned partitioned count \", pqDF.count())"
   ]
  },
  {
   "cell_type": "markdown",
   "metadata": {},
   "source": [
    "# Partitioned Parquet file"
   ]
  },
  {
   "cell_type": "markdown",
   "metadata": {},
   "source": [
    "# Fresh data"
   ]
  },
  {
   "cell_type": "markdown",
   "metadata": {},
   "source": [
    ".mode(...).option(\"compression\", \"gzip\") can be used for gzip compression"
   ]
  },
  {
   "cell_type": "code",
   "execution_count": 19,
   "metadata": {
    "ExecuteTime": {
     "end_time": "2021-07-25T05:20:51.084467Z",
     "start_time": "2021-07-25T05:13:13.137311Z"
    }
   },
   "outputs": [],
   "source": [
    "csvdataDF.write.partitionBy(\"city\").format(\"parquet\").mode(\"overwrite\").option(\"compression\", \"gzip\").save(\"income_part.parquet\")"
   ]
  },
  {
   "cell_type": "code",
   "execution_count": 20,
   "metadata": {
    "ExecuteTime": {
     "end_time": "2021-07-25T05:33:12.036002Z",
     "start_time": "2021-07-25T05:30:00.540310Z"
    }
   },
   "outputs": [
    {
     "name": "stdout",
     "output_type": "stream",
     "text": [
      "PQ Non-partitioned partitioned count  5125\n"
     ]
    }
   ],
   "source": [
    "pqDF = spark.read.load(\"income_part.parquet\", format=\"parquet\")\n",
    "pqDF.registerTempTable(\"pqincomes\")\n",
    "print(\"PQ Non-partitioned partitioned count \", pqDF.count())"
   ]
  },
  {
   "cell_type": "code",
   "execution_count": 21,
   "metadata": {
    "ExecuteTime": {
     "end_time": "2021-07-25T05:33:36.281780Z",
     "start_time": "2021-07-25T05:33:35.706309Z"
    }
   },
   "outputs": [
    {
     "name": "stdout",
     "output_type": "stream",
     "text": [
      "+-----+------+--------+-------+--------------------+-----+-----+---------+--------+-------+--------------------+--------------------+------+------+------+-------+--------+------+----------+--------------------+----------+----------+---------+------+-------+-----+-------+--------+-----------+-----------+------------+------------+------------+---------+-----+---+--------------------+------+-------+-----+------+-----+------+-------+-------+--------+-----+----+--------+------+-------+------+----+-------+-----+------+-------+-------+------+------+--------+--------+----+\n",
      "| cert|docket|fed_rssd|rssdhcr|                name|stalp|  zip|   repdte| rundate|bkclass|             address|             namehcr|offdom|offfor|stmult|specgrp|subchaps|county|cbsa_metro|     cbsa_metro_name|    estymd|   insdate|  effdate|mutual|parcert|trust|regagnt|insagnt1|    fdicdbs|   fdicsupv|      fldoff|         fed|     occdist| otsregnm|offoa| cb|        inst.webaddr|intinc|eintexp|  nim|elnatr|nonii|ifiduc|iserchg|igltrad|idothnii|nonix|esal|epremagg|IDEOTH|idpretx|iglsec|itax|ibefxtr|extra|netinc|NETIMIN|NETINBM|ntlnls|eqcdiv|eqcstkrx|    noij|city|\n",
      "+-----+------+--------+-------+--------------------+-----+-----+---------+--------+-------+--------------------+--------------------+------+------+------+-------+--------+------+----------+--------------------+----------+----------+---------+------+-------+-----+-------+--------+-----------+-----------+------------+------------+------------+---------+-----+---+--------------------+------+-------+-----+------+-----+------+-------+-------+--------+-----+----+--------+------+-------+------+----+-------+-----+------+-------+-------+------+------+--------+--------+----+\n",
      "|15104|     0|  922924|1076208|        Bank of York|   SC|29745|3/31/2020|6/2/2020|     NM|     13 W Liberty St| YORK BANCSHARES INC|     4|     0|  null|      7|       0|  York|     16740|Charlotte-Concord...| 4/15/1935| 4/24/1935|3/31/2006| Stock|      0|    0|   FDIC|     DIF|    Atlanta|    ATLANTA| Columbia Sc|    Richmond|Northeastern|Southeast|    0|  1|  www.bankofyork.com|  1777|     91| 1686|     0|  229|     0|     58|   null|     171| 1291| 732|     119|   440|    624|     0| 129|    495|    0|   495|      0|    495|    36|     0|       0|   495.0|York|\n",
      "| 5496|     0|  403151|1050646|    Cornerstone Bank|   NE|68467|3/31/2020|6/2/2020|     SM| 529 N. Lincoln Ave.| FIRST YORK BAN CORP|    45|     0|  null|      2|       1|  York|      null|                null| 4/22/1882|  1/1/1934|12/5/2019| Stock|      0|    1|    FED|     DIF|Kansas City|KANSAS CITY|Grand Island| Kansas City|     Western|  Western|    0|  1|www.cornerstoneco...| 18664|   4258|14406|   298| 3937|   550|    416|      0|    2971|12539|7775|    1488|  3276|   5506|  -149| 176|   5181|    0|  5181|      0|   5181|   100|  3000|       0| 5325.53|York|\n",
      "|13879| 10161|  556815|1142475|PeoplesBank, a Co...|   PA|17403|3/31/2020|6/2/2020|     NM|109 Leader Height...|CODORUS VALLEY BC...|    38|     0|  null|      4|       0|  York|     49620|    York-Hanover, PA| 1/25/1934| 2/10/1934|12/4/2018| Stock|      0|    1|   FDIC|     DIF|   New York|   NEW YORK|  Harrisburg|Philadelphia|Northeastern|Northeast|    0|  0|http://www.people...| 20186|   4731|15455|  9435| 3408|   994|    558|      0|    1856|13148|7808|    1663|  3677|  -3720|    15|-921|  -2784|    0| -2784|      0|  -2784|  7663|  1300|       0|-2795.85|York|\n",
      "|16079|     0|  731050|4771997|     York State Bank|   NE|68467|3/31/2020|6/2/2020|     NM|    700 Lincoln Ave.|   YORK HOLDINGS INC|     5|     0|  null|      2|       0|  York|      null|                null|  7/1/1943| 7/15/1943| 6/2/2011| Stock|      0|    0|   FDIC|     DIF|Kansas City|KANSAS CITY|Grand Island| Kansas City|     Western|  Western|    0|  1|www.yorkstatebank...|  1542|    232| 1310|     0|  194|     0|     76|   null|     118|  958| 611|      71|   276|    546|    -3| 122|    421|    0|   421|      0|    421|     1|     0|       0|  423.37|York|\n",
      "|57377|     0| 3145797|   null|York Traditions Bank|   PA|17402|3/31/2020|6/2/2020|     NM| 235 St. Charles Way|                null|     7|     0|  null|      4|       0|  York|     49620|    York-Hanover, PA|10/28/2002|10/28/2002|3/18/2020| Stock|      0|    0|   FDIC|     DIF|   New York|   NEW YORK|  Harrisburg|Philadelphia|Northeastern|Northeast|    0|  1|http://www.yorktr...|  5683|   1241| 4442|   393| 1829|     0|     93|   null|    1736| 4556|2774|     604|  1178|   1322|   116| 266|   1172|    0|  1172|      0|   1172|   612|     0|      61| 1076.88|York|\n",
      "+-----+------+--------+-------+--------------------+-----+-----+---------+--------+-------+--------------------+--------------------+------+------+------+-------+--------+------+----------+--------------------+----------+----------+---------+------+-------+-----+-------+--------+-----------+-----------+------------+------------+------------+---------+-----+---+--------------------+------+-------+-----+------+-----+------+-------+-------+--------+-----+----+--------+------+-------+------+----+-------+-----+------+-------+-------+------+------+--------+--------+----+\n",
      "\n"
     ]
    }
   ],
   "source": [
    "filteredCSVDF = spark.sql(\"select * from pqincomes where city='York'\")\n",
    "filteredCSVDF.show()"
   ]
  }
 ],
 "metadata": {
  "kernelspec": {
   "display_name": "Python 3",
   "language": "python",
   "name": "python3"
  },
  "language_info": {
   "codemirror_mode": {
    "name": "ipython",
    "version": 3
   },
   "file_extension": ".py",
   "mimetype": "text/x-python",
   "name": "python",
   "nbconvert_exporter": "python",
   "pygments_lexer": "ipython3",
   "version": "3.7.7"
  }
 },
 "nbformat": 4,
 "nbformat_minor": 4
}
